{
 "cells": [
  {
   "cell_type": "markdown",
   "metadata": {},
   "source": [
    "## Calculating Statistical Values for Encrypted Multi-Column Data"
   ]
  },
  {
   "cell_type": "markdown",
   "metadata": {},
   "source": [
    "This tutorial demonstrates how to calculate statistical values for encrypted multi-column data using HEaaN.Stat. You can run this tutorial in the `tutorial/04_heframe_stats.ipynb` path of the HEaaN.Stat Docker image."
   ]
  },
  {
   "cell_type": "markdown",
   "metadata": {},
   "source": [
    "### Step 1. Import HEaaN.Stat SDK and Create a Context\n",
    "We start by importing the necessary libraries and creating a context for HEaaN.Stat. This context manages the encryption keys and internal parameters for homomorphic encryption."
   ]
  },
  {
   "cell_type": "code",
   "execution_count": null,
   "metadata": {},
   "outputs": [],
   "source": [
    "import numpy as np\n",
    "import pandas as pd\n",
    "import heaan_stat\n",
    "\n",
    "# Initialize context with default parameters\n",
    "context = heaan_stat.Context.from_args()"
   ]
  },
  {
   "cell_type": "markdown",
   "metadata": {},
   "source": [
    "### Step 2: Statistical Functions on Multi-Column Data\n",
    "HEaaN.Stat  supports statistical functions such as sum, mean, variance, standard deviation, standard error, coefficient of variation, skewness, and kurtosis for multi-column data stored in an `HEFrame.` When applying these functions, only numerical columns are processed.\n",
    "Let’s create a sample `HEFrame` from a Pandas `DataFrame`:"
   ]
  },
  {
   "cell_type": "code",
   "execution_count": null,
   "metadata": {},
   "outputs": [],
   "source": [
    "from heaan_stat import HEFrame\n",
    "\n",
    "# Create a sample DataFrame\n",
    "df = pd.DataFrame({\n",
    "    \"Column 1\": pd.Series([-5, -4, -3, -2, -1]),\n",
    "    \"Column 2\": pd.Series([9, 7, 8, 0, 6]),\n",
    "    \"Column 3\": pd.Series([\"a\", \"a\", \"b\", \"c\", \"b\"], dtype=\"category\")\n",
    "})\n",
    "\n",
    "df  # Display the DataFrame"
   ]
  },
  {
   "cell_type": "markdown",
   "metadata": {},
   "source": [
    "Next, convert this `DataFrame` into an `HEFrame` and apply some basic statistical functions like sum and variance."
   ]
  },
  {
   "cell_type": "code",
   "execution_count": null,
   "metadata": {},
   "outputs": [],
   "source": [
    "hf = HEFrame(context, df, encrypt_columns=True)\n",
    "sum = hf.sum() # Get sum"
   ]
  },
  {
   "cell_type": "markdown",
   "metadata": {},
   "source": [
    "### Step 3: Visualizing Results\n",
    "HEaaN.Stat  allows you to visualize the results of statistical functions using the `plot()` function. Here is how to visualize the sum:"
   ]
  },
  {
   "cell_type": "code",
   "execution_count": null,
   "metadata": {},
   "outputs": [],
   "source": [
    "sum.decrypt()  # Decrypt the results\n",
    "sum.plot()  # Plot the sum"
   ]
  },
  {
   "cell_type": "markdown",
   "metadata": {},
   "source": [
    "Similarly, let’s calculate and visualize the variance:"
   ]
  },
  {
   "cell_type": "code",
   "execution_count": null,
   "metadata": {},
   "outputs": [],
   "source": [
    "var = hf.var()  # Calculate variance\n",
    "var.decrypt()  # Decrypt the results\n",
    "var.plot()  # Plot the variance"
   ]
  },
  {
   "cell_type": "markdown",
   "metadata": {},
   "source": [
    "### Step 4: Grouping Data with groupby()\n",
    "HEaaN.Stat supports the `groupby()` operation, which is used to split an `HEFrame` into groups based on the values of one or more columns. After grouping, you can perform aggregate functions such as mean, variance, standard deviation, standard error, skewness, and kurtosis on each group.\n",
    "Let’s group the data based on Column 3:"
   ]
  },
  {
   "cell_type": "code",
   "execution_count": null,
   "metadata": {},
   "outputs": [],
   "source": [
    "hg = hf.groupby(\"Column 3\")  # Group columns based on values in Column 3"
   ]
  },
  {
   "cell_type": "markdown",
   "metadata": {},
   "source": [
    "Now, let’s review the original DataFrame before calculating the group-wise statistics:"
   ]
  },
  {
   "cell_type": "code",
   "execution_count": null,
   "metadata": {},
   "outputs": [],
   "source": [
    "df  # Display the original DataFrame"
   ]
  },
  {
   "cell_type": "markdown",
   "metadata": {},
   "source": [
    "For `hg.sum()`, the sum of the groups is calculated based on the indices of Column 3. For example:\n",
    "\n",
    "    Group a consists of rows with indices [0, 1].\n",
    "    Group b consists of rows with indices [2, 4].\n",
    "    Group c consists of the row with index [3].\n",
    "\n",
    "Let’s calculate and visualize the sum for each group:"
   ]
  },
  {
   "cell_type": "code",
   "execution_count": null,
   "metadata": {},
   "outputs": [],
   "source": [
    "sum = hg.sum()  # Calculate the sum for each group\n",
    "sum.decrypt()  # Decrypt the results\n",
    "sum.plot()  # Plot the group-wise sum"
   ]
  }
 ],
 "metadata": {
  "kernelspec": {
   "display_name": ".venv",
   "language": "python",
   "name": "python3"
  },
  "language_info": {
   "codemirror_mode": {
    "name": "ipython",
    "version": 3
   },
   "file_extension": ".py",
   "mimetype": "text/x-python",
   "name": "python",
   "nbconvert_exporter": "python",
   "pygments_lexer": "ipython3",
   "version": "3.10.12"
  }
 },
 "nbformat": 4,
 "nbformat_minor": 2
}
