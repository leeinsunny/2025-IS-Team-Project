{
 "cells": [
  {
   "cell_type": "markdown",
   "metadata": {},
   "source": [
    "## Calculating Statistical Values for Single-Column Data"
   ]
  },
  {
   "cell_type": "markdown",
   "metadata": {},
   "source": [
    "This tutorial demonstrates how to calculate various statistical values for encrypted single-column data using HEaaN.Stat. You can run this tutorial in the `tutorial/02_heseries_stats.ipynb` path of the HEaaN.Stat Docker image."
   ]
  },
  {
   "cell_type": "markdown",
   "metadata": {},
   "source": [
    "### Step 1. Import `HEaaN.Stat SDK` and create a `Context` and `HESeries`\n",
    "\n",
    "Begin by importing the `heaan_stat` library and the Context class.\n",
    "\n",
    "The `from_args()` function is used to initialize a `Context`. It locates the directory for secret and public keys, and if the directory doesn’t exist, it generates new keys. By default, the \"all\" option is selected for load_keys."
   ]
  },
  {
   "cell_type": "code",
   "execution_count": null,
   "metadata": {},
   "outputs": [],
   "source": [
    "import pandas as pd\n",
    "\n",
    "import heaan_stat\n",
    "\n",
    "from heaan_stat import Context\n",
    "\n",
    "context = Context.from_args()"
   ]
  },
  {
   "cell_type": "markdown",
   "metadata": {},
   "source": [
    "### Step 2. Descriptive Statistics\n",
    "\n",
    "In this step, we will calculate basic statistics on the encrypted `HESeries` without decrypting the data. First, we create an `HESeries` and encrypt it."
   ]
  },
  {
   "cell_type": "code",
   "execution_count": null,
   "metadata": {},
   "outputs": [],
   "source": [
    "from heaan_stat import HESeries\n",
    "\n",
    "hs = HESeries(context , [1,2,4,5])"
   ]
  },
  {
   "cell_type": "code",
   "execution_count": null,
   "metadata": {},
   "outputs": [],
   "source": [
    "hs.encrypt()"
   ]
  },
  {
   "cell_type": "markdown",
   "metadata": {},
   "source": [
    "Next, we calculate the sum, mean, and variance of the encrypted data."
   ]
  },
  {
   "cell_type": "code",
   "execution_count": null,
   "metadata": {},
   "outputs": [],
   "source": [
    "sum = hs.sum()\n",
    "mean = hs.mean()\n",
    "var = hs.var()"
   ]
  },
  {
   "cell_type": "markdown",
   "metadata": {},
   "source": [
    "To view the results, we need to decrypt and decode them:"
   ]
  },
  {
   "cell_type": "code",
   "execution_count": null,
   "metadata": {},
   "outputs": [],
   "source": [
    "print(f\"sum: {sum.decrypt_decode():.4f}\")\n",
    "print(f\"mean: {mean.decrypt_decode():.4f}\")\n",
    "print(f\"variance: {var.decrypt_decode():.4f}\")"
   ]
  },
  {
   "cell_type": "markdown",
   "metadata": {},
   "source": [
    "### Step 3: Additional Functions\n",
    "\n",
    "HEaaN.Stat provides additional functions such as standard deviation, skewness, and kurtosis. We can calculate these while the data remains encrypted, and then decrypt the results."
   ]
  },
  {
   "cell_type": "markdown",
   "metadata": {},
   "source": [
    "Standard Deviation:"
   ]
  },
  {
   "cell_type": "code",
   "execution_count": null,
   "metadata": {},
   "outputs": [],
   "source": [
    "std = hs.std()\n",
    "print(f\"standard deviation: {std.decrypt_decode():.4f}\")"
   ]
  },
  {
   "cell_type": "markdown",
   "metadata": {},
   "source": [
    "Skewness:"
   ]
  },
  {
   "cell_type": "code",
   "execution_count": null,
   "metadata": {},
   "outputs": [],
   "source": [
    "skewness = hs.skew()\n",
    "print(f\"skewness: {skewness.decrypt_decode():.4f}\")"
   ]
  },
  {
   "cell_type": "markdown",
   "metadata": {},
   "source": [
    "Kurtosis:"
   ]
  },
  {
   "cell_type": "code",
   "execution_count": null,
   "metadata": {},
   "outputs": [],
   "source": [
    "kurtosis = hs.kurt()\n",
    "print(f\"kurtosis: {kurtosis.decrypt_decode():.4f}\")"
   ]
  }
 ],
 "metadata": {
  "kernelspec": {
   "display_name": ".venv",
   "language": "python",
   "name": "python3"
  },
  "language_info": {
   "codemirror_mode": {
    "name": "ipython",
    "version": 3
   },
   "file_extension": ".py",
   "mimetype": "text/x-python",
   "name": "python",
   "nbconvert_exporter": "python",
   "pygments_lexer": "ipython3",
   "version": "3.8.19"
  }
 },
 "nbformat": 4,
 "nbformat_minor": 2
}
