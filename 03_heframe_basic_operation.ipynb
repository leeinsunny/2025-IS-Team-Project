{
 "cells": [
  {
   "cell_type": "markdown",
   "metadata": {},
   "source": [
    "## Basic Operations Across Multiple Columns"
   ]
  },
  {
   "cell_type": "markdown",
   "metadata": {},
   "source": [
    "In this tutorial, you'll learn how to perform basic operations on encrypted data stored across multiple columns in a DataFrame-like structure using HEaaN.Stat. You can run this tutorial in the `tutorial/03_heframe_basic_operation.ipynb` path of the HEaaN.Stat Docker image.\n"
   ]
  },
  {
   "cell_type": "markdown",
   "metadata": {},
   "source": [
    "### Step 1. Import HEaaN.Stat SDK and Create an `HEFrame`."
   ]
  },
  {
   "cell_type": "code",
   "execution_count": null,
   "metadata": {},
   "outputs": [],
   "source": [
    "import numpy as np\n",
    "import pandas as pd\n",
    "import heaan_stat\n",
    "\n",
    "# Initialize the context using default parameters\n",
    "context = heaan_stat.Context.from_args()"
   ]
  },
  {
   "cell_type": "markdown",
   "metadata": {},
   "source": [
    "Let’s generate a Pandas `DataFrame` with two columns containing random data, which will then be converted into an `HEFrame`:\n"
   ]
  },
  {
   "cell_type": "code",
   "execution_count": null,
   "metadata": {},
   "outputs": [],
   "source": [
    "# Generate a DataFrame with random data\n",
    "df = pd.DataFrame({\n",
    "    'A': pd.Series(np.random.normal(5, 10, size=10)), \n",
    "    # Values from a normal distribution with mean=5, standard deviation=10\n",
    "    'B': pd.Series(np.random.randint(0, 10, size=10))\n",
    "    # Random integers between 0 and 9\n",
    "})\n",
    "\n",
    "print(\"Frame\")\n",
    "print(df)"
   ]
  },
  {
   "cell_type": "markdown",
   "metadata": {},
   "source": [
    "Now, we will convert this Pandas `DataFrame` into an `HEFrame` and encrypt the columns."
   ]
  },
  {
   "cell_type": "code",
   "execution_count": null,
   "metadata": {},
   "outputs": [],
   "source": [
    "from heaan_stat import HEFrame\n",
    "\n",
    "# Convert the DataFrame to an encrypted HEFrame\n",
    "hf = HEFrame(context, df, encrypt_columns=True)"
   ]
  },
  {
   "cell_type": "markdown",
   "metadata": {},
   "source": [
    "### Step 2: Accessing and Manipulating HEFrame Columns\n",
    "You can access specific columns from an `HEFrame` just like a Pandas `DataFrame`. For example, let’s access column A:"
   ]
  },
  {
   "cell_type": "code",
   "execution_count": null,
   "metadata": {},
   "outputs": [],
   "source": [
    "col_a = hf[\"A\"]\n",
    "col_a"
   ]
  },
  {
   "cell_type": "markdown",
   "metadata": {},
   "source": [
    "You can also `encrypt` and `decrypt` individual columns as needed. Here’s an example:\n"
   ]
  },
  {
   "cell_type": "code",
   "execution_count": null,
   "metadata": {},
   "outputs": [],
   "source": [
    "hf['A'].decrypt()\n",
    "print(\"encrypted:\", hf['A'].encrypted)\n",
    "\n",
    "hf['A'].encrypt()\n",
    "print(\"encrypted:\", hf['A'].encrypted)"
   ]
  },
  {
   "cell_type": "markdown",
   "metadata": {},
   "source": [
    "### Step 3: Converting HEFrame to Pandas DataFrame\n",
    "To convert an encrypted `HEFrame` back to a Pandas `DataFrame`, use the `decrypt_decode()` function. This decrypts the data and returns it as a Pandas `DataFrame`."
   ]
  },
  {
   "cell_type": "code",
   "execution_count": null,
   "metadata": {},
   "outputs": [],
   "source": [
    "hf.info()  # Check the encryption status of each column"
   ]
  },
  {
   "cell_type": "code",
   "execution_count": null,
   "metadata": {},
   "outputs": [],
   "source": [
    "df_result = hf.decrypt_decode() # Decrypt and convert HEFrame to DataFrame\n",
    "print(df_result)"
   ]
  },
  {
   "cell_type": "code",
   "execution_count": null,
   "metadata": {},
   "outputs": [],
   "source": [
    "hf.info()  # Check the encryption status of each column after decryption"
   ]
  },
  {
   "cell_type": "code",
   "execution_count": null,
   "metadata": {},
   "outputs": [],
   "source": [
    "df_result = hf.to_frame()  # Convert decrypted HEFrame to DataFrame"
   ]
  },
  {
   "cell_type": "markdown",
   "metadata": {},
   "source": [
    "### Step 4: Adding and Manipulating Columns in HEFrame\n",
    "You can add new columns to an `HEFrame` or manipulate existing columns using `HESeries`. Here’s an example of adding a new column:"
   ]
  },
  {
   "cell_type": "code",
   "execution_count": null,
   "metadata": {},
   "outputs": [],
   "source": [
    "from heaan_stat import HESeries\n",
    "\n",
    "# Create a new HESeries and add it as column C\n",
    "col_c = HESeries(context, np.random.random(10))\n",
    "hf['C'] = col_c"
   ]
  },
  {
   "cell_type": "code",
   "execution_count": null,
   "metadata": {},
   "outputs": [],
   "source": [
    "hf.info()  # Display the structure and encryption status of the HEFrame"
   ]
  },
  {
   "cell_type": "markdown",
   "metadata": {},
   "source": [
    "### Step 5: Performing Operations on Multiple Columns\n",
    "You can perform arithmetic operations between encrypted columns in the `HEFrame`, just like with a Pandas `DataFrame`, and the results are stored in the new columns."
   ]
  },
  {
   "cell_type": "code",
   "execution_count": null,
   "metadata": {},
   "outputs": [],
   "source": [
    "hf.encrypt()  # Encrypt before performing operations\n",
    "\n",
    "# Perform encrypted operations on the columns\n",
    "hf[\"A+B\"] = hf[\"A\"] + hf[\"B\"]\n",
    "hf[\"A-B\"] = hf[\"A\"] - hf[\"B\"]\n",
    "hf[\"A*C\"] = hf[\"A\"] * hf[\"C\"]\n",
    "\n",
    "hf.info()  # Display the updated HEFrame structure"
   ]
  },
  {
   "cell_type": "markdown",
   "metadata": {},
   "source": [
    "The results of the operations can be viewed after decryption:"
   ]
  },
  {
   "cell_type": "code",
   "execution_count": null,
   "metadata": {},
   "outputs": [],
   "source": [
    "result = hf.decrypt_decode()\n",
    "print(result)"
   ]
  }
 ],
 "metadata": {
  "kernelspec": {
   "display_name": ".venv",
   "language": "python",
   "name": "python3"
  },
  "language_info": {
   "codemirror_mode": {
    "name": "ipython",
    "version": 3
   },
   "file_extension": ".py",
   "mimetype": "text/x-python",
   "name": "python",
   "nbconvert_exporter": "python",
   "pygments_lexer": "ipython3",
   "version": "3.10.12"
  }
 },
 "nbformat": 4,
 "nbformat_minor": 2
}
