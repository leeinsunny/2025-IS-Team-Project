{
 "cells": [
  {
   "cell_type": "markdown",
   "metadata": {},
   "source": [
    "## Tutorial 5. Correlation and Covariance\n",
    "\n",
    "This tutorial is located in the `tutorial/05_correlation_and_covariance.ipynb` path of the HEaaN.Stat Docker image.\n",
    "\n",
    "In `HEaaN.Stat SDK`, you can calculate correlation and covariance in two ways:\n",
    "\n",
    "1. Directly calculate the correlation or covariance between two columns.\n",
    "2. Build a covariance or correlation matrix for multiple columns using the `cov()` or `corr()` methods of `HEFrame`."
   ]
  },
  {
   "cell_type": "markdown",
   "metadata": {},
   "source": [
    "### Step 1. Import HEaaN.Stat SDK and Create a Context\n",
    "Let’s start by importing the necessary libraries and setting up the HEaaN.Stat context, which will manage encryption keys and parameters."
   ]
  },
  {
   "cell_type": "code",
   "execution_count": null,
   "metadata": {},
   "outputs": [],
   "source": [
    "import pandas as pd\n",
    "import heaan_stat\n",
    "\n",
    "# Initialize the context with default parameters\n",
    "context = heaan_stat.Context.from_args()"
   ]
  },
  {
   "cell_type": "markdown",
   "metadata": {},
   "source": [
    "### Step 2: Create the DataFrame and Convert to HEFrame\n",
    "We will create a Pandas `DataFrame` with three columns of data. The first two columns (Column 1 and Column 2) contain numeric data, while the third column (Column 3) contains categorical data"
   ]
  },
  {
   "cell_type": "code",
   "execution_count": null,
   "metadata": {},
   "outputs": [],
   "source": [
    "from heaan_stat import HEFrame\n",
    "\n",
    "# Set the data values for each column\n",
    "a = [10, 15, 9, 12, 11, 14, 10]\n",
    "b = [11, 16, 10, 13, 12, 15, 11]\n",
    "c = [1, 5, 3, 2, 4, 3, 2]\n",
    "\n",
    "# Create a Pandas DataFrame\n",
    "df = pd.DataFrame({\n",
    "    'Column 1': a,\n",
    "    'Column 2': b,\n",
    "    'Column 3': c\n",
    "})\n",
    "\n",
    "# Convert the DataFrame to an encrypted HEFrame\n",
    "hf = HEFrame(context, df, encrypt_columns=True)"
   ]
  },
  {
   "cell_type": "markdown",
   "metadata": {},
   "source": [
    "### Step 3: Calculate Covariance and Correlation Directly\n",
    "We can calculate the covariance and correlation between two columns (e.g., Column 1 and Column 2) directly using the `cov()` and `corr()` methods on `HESeries`."
   ]
  },
  {
   "cell_type": "code",
   "execution_count": null,
   "metadata": {},
   "outputs": [],
   "source": [
    "col1 = hf[\"Column 1\"]\n",
    "col2 = hf[\"Column 2\"]\n",
    "\n",
    "# Calculate covariance and correlation\n",
    "cov = col1.cov(col2)\n",
    "corr = col1.corr(col2)\n",
    "\n",
    "# Decrypt and display the results\n",
    "print(f\"Covariance: {cov.decrypt_decode()}\")\n",
    "print(f\"Correlation: {corr.decrypt_decode()}\")"
   ]
  },
  {
   "cell_type": "markdown",
   "metadata": {},
   "source": [
    "### Step 4: Create Covariance and Correlation Matrix\n",
    "We can also generate a covariance or correlation matrix across multiple columns by applying the `cov()` and `corr()` methods directly on the `HEFrame`. This is particularly useful when dealing with multi-column data."
   ]
  },
  {
   "cell_type": "code",
   "execution_count": null,
   "metadata": {},
   "outputs": [],
   "source": [
    "# Use cov() and corr() methods of HEFrame\n",
    "cov_frame = hf.cov()\n",
    "corr_frame = hf.corr()"
   ]
  },
  {
   "cell_type": "markdown",
   "metadata": {},
   "source": [
    "### Step 5: Visualize Covariance and Correlation Matrix\n",
    "HEaaN.Stat SDK supports visualization of the covariance and correlation matrices using the `plot()` method. After decryption, the results can also be displayed in a table format."
   ]
  },
  {
   "cell_type": "markdown",
   "metadata": {},
   "source": [
    "Covariance Matrix:"
   ]
  },
  {
   "cell_type": "code",
   "execution_count": null,
   "metadata": {},
   "outputs": [],
   "source": [
    "# Decrypt, plot, and display the covariance matrix\n",
    "cov_frame.decrypt()\n",
    "cov_frame.plot()\n",
    "cov_frame.to_frame()"
   ]
  },
  {
   "cell_type": "markdown",
   "metadata": {},
   "source": [
    "Correlation Matrix:"
   ]
  },
  {
   "cell_type": "code",
   "execution_count": null,
   "metadata": {},
   "outputs": [],
   "source": [
    "# Decrypt, plot, and display the correlation matrix\n",
    "corr_frame.decrypt()\n",
    "corr_frame.plot()\n",
    "corr_frame.to_frame()"
   ]
  }
 ],
 "metadata": {
  "kernelspec": {
   "display_name": ".venv",
   "language": "python",
   "name": "python3"
  },
  "language_info": {
   "codemirror_mode": {
    "name": "ipython",
    "version": 3
   },
   "file_extension": ".py",
   "mimetype": "text/x-python",
   "name": "python",
   "nbconvert_exporter": "python",
   "pygments_lexer": "ipython3",
   "version": "3.10.12"
  }
 },
 "nbformat": 4,
 "nbformat_minor": 2
}
