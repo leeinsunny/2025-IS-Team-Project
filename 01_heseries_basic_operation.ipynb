{
 "cells": [
  {
   "cell_type": "markdown",
   "metadata": {},
   "source": [
    "## Basic Operations on Encrypted Data"
   ]
  },
  {
   "cell_type": "markdown",
   "metadata": {},
   "source": [
    "This tutorial is located in the `tutorial/01_heseries_basic_operation.ipynb` path of the HEaaN.Stat Docker image."
   ]
  },
  {
   "cell_type": "markdown",
   "metadata": {},
   "source": [
    "### Step 1. Import HEaaN.Stat SDK    \n",
    "Along with HEaaN.Stat, you will also need libraries such as `numpy` and `pandas` for handling plaintext data processing."
   ]
  },
  {
   "cell_type": "code",
   "execution_count": 11,
   "metadata": {},
   "outputs": [],
   "source": [
    "import os\n",
    "os.environ[\"HEAAN_TYPE\"] = \"pi\"\n",
    "os.environ[\"OMP_NUM_THREADS\"] = \"8\"\n",
    "\n",
    "import numpy as np\n",
    "import pandas as pd\n",
    "\n",
    "import heaan_stat\n",
    "from heaan_stat import Context, HESeries\n"
   ]
  },
  {
   "cell_type": "markdown",
   "metadata": {},
   "source": [
    "### Step 2. Create a Context\n",
    "A `Context` holds necessary internal information for performing homomorphic encryption, including HE encryption keys.\n",
    "\n",
    "HE keys used for encryption and decryption are managed by the `Keypack` class. When a ciphertext is encrypted using a particular `Keypack`, any subsequent operations on that ciphertext must use the same `Keypack`; otherwise, the results will be invalid.\n",
    "\n",
    "Since the `Context` contains all the essential elements needed to interact with the HEaaN CKKS library, nearly every object in the HEaaN.Stat requires a Context to function properly.\n",
    "\n",
    "The `Context` also handles configuration settings, including whether to generate new keys for encryption and decryption, and which types of keys should be loaded. \n",
    "\n"
   ]
  },
  {
   "cell_type": "code",
   "execution_count": 1,
   "metadata": {},
   "outputs": [
    {
     "name": "stderr",
     "output_type": "stream",
     "text": [
      "/tmp/ipykernel_3379/2287943210.py:3: UserWarning: The currently available memory size is 3.8GB. It must be at least 10.2GB for `FGb` parameter preset to compute operations.\n",
      "  context = Context(\n"
     ]
    },
    {
     "data": {
      "text/plain": [
       "Context(\n",
       "  preset: FGb,\n",
       "  key dir path: \"keys\",\n",
       "  loaded key type: \"all\",\n",
       "  GPU: Not available\n",
       ")"
      ]
     },
     "execution_count": 1,
     "metadata": {},
     "output_type": "execute_result"
    }
   ],
   "source": [
    "from heaan_stat import Context\n",
    "\n",
    "context = Context(\n",
    "    key_dir_path='./keys',\n",
    "    generate_keys=True,  # To use existing keys, set it to False or omit this\n",
    ")\n",
    "\n",
    "context # Show the values of parameters in the Context"
   ]
  },
  {
   "cell_type": "markdown",
   "metadata": {},
   "source": [
    "### Step 3. HESeries creation\n",
    "\n",
    "Creating an `HESeries`, an extension of Pandas Series with homomorphic encryption (HE), by passing a list of values or a Pandas Series directly."
   ]
  },
  {
   "cell_type": "code",
   "execution_count": 2,
   "metadata": {},
   "outputs": [
    {
     "data": {
      "text/plain": [
       "HESeries(\n",
       "  encrypted: False,\n",
       "  length: 5,\n",
       "  dtype: numeric,"
      ]
     },
     "execution_count": 2,
     "metadata": {},
     "output_type": "execute_result"
    }
   ],
   "source": [
    "from heaan_stat import HESeries\n",
    "\n",
    "hs1 = HESeries(context, [1,2,3,4,5])\n",
    "hs1 # Show information of HESeries hs1"
   ]
  },
  {
   "cell_type": "markdown",
   "metadata": {},
   "source": [
    "\n",
    "To convert the `HESeries` to a Pandas `Series`, use the `to_series()` or `decode()` function. However, if the `HESeries` is encrypted, attempting to convert it directly will raise an error. Instead, use `decrypt_decode()` to decrypt and convert the data, or `decrypt(inplace=False).decode()` to keep the original data encrypted while obtaining the decrypted version as a Pandas `Series`."
   ]
  },
  {
   "cell_type": "code",
   "execution_count": 3,
   "metadata": {},
   "outputs": [
    {
     "data": {
      "text/plain": [
       "(pandas.core.series.Series,\n",
       " 0    1\n",
       " 1    2\n",
       " 2    3\n",
       " 3    4\n",
       " 4    5\n",
       " dtype: int64)"
      ]
     },
     "execution_count": 3,
     "metadata": {},
     "output_type": "execute_result"
    }
   ],
   "source": [
    "series1 = hs1.to_series()\n",
    "type(series1), series1 # Show the type and values of series1"
   ]
  },
  {
   "cell_type": "markdown",
   "metadata": {},
   "source": [
    "You can also initialize the `HESeries` in encrypted state by setting the encrypt parameter to `True`."
   ]
  },
  {
   "cell_type": "code",
   "execution_count": 4,
   "metadata": {},
   "outputs": [
    {
     "data": {
      "text/plain": [
       "HESeries(\n",
       "  encrypted: True,\n",
       "  level: 12,\n",
       "  length: 5,\n",
       "  dtype: numeric,"
      ]
     },
     "execution_count": 4,
     "metadata": {},
     "output_type": "execute_result"
    }
   ],
   "source": [
    "hs2 = HESeries(context, [1,3,5,7,9], encrypt=True)\n",
    "hs2 # Show information of HESeries hs2"
   ]
  },
  {
   "cell_type": "markdown",
   "metadata": {},
   "source": [
    "To convert the encrypted `HESeries` to plaintext, decrypt it first using the `decrypt()` function, then convert it to a Pandas `Series`.\n"
   ]
  },
  {
   "cell_type": "code",
   "execution_count": 5,
   "metadata": {},
   "outputs": [
    {
     "data": {
      "text/plain": [
       "(0    1\n",
       " 1    3\n",
       " 2    5\n",
       " 3    7\n",
       " 4    9\n",
       " dtype: int64,\n",
       " HESeries(\n",
       "   encrypted: True,\n",
       "   level: 12,\n",
       "   length: 5,\n",
       "   dtype: numeric,)"
      ]
     },
     "execution_count": 5,
     "metadata": {},
     "output_type": "execute_result"
    }
   ],
   "source": [
    "series = hs2.decrypt(False).to_series()\n",
    "series, hs2 # Show the pandas Series, and encrypted HESeries"
   ]
  },
  {
   "cell_type": "markdown",
   "metadata": {},
   "source": [
    "`HESeries` supports various data types, including numeric, boolean, and categorical."
   ]
  },
  {
   "cell_type": "code",
   "execution_count": 12,
   "metadata": {},
   "outputs": [
    {
     "data": {
      "text/plain": [
       "(pandas.core.series.Series,\n",
       " 0    2\n",
       " 1    3\n",
       " 2    2\n",
       " 3    1\n",
       " 4    1\n",
       " dtype: int64)"
      ]
     },
     "execution_count": 12,
     "metadata": {},
     "output_type": "execute_result"
    }
   ],
   "source": [
    "category = pd.Series(np.random.randint(1, 4, size=5), dtype=\"int\")\n",
    "hs3 = HESeries(context, category)\n",
    "hs3\n",
    "# Show information of HESeries hs3\n",
    "series3 = hs3.to_series()\n",
    "type(series3), series3 # Show the type and values of series3\n",
    "# Show the type and values of series3"
   ]
  },
  {
   "cell_type": "code",
   "execution_count": 13,
   "metadata": {},
   "outputs": [
    {
     "data": {
      "text/plain": [
       "0    2\n",
       "1    3\n",
       "2    2\n",
       "3    1\n",
       "4    1\n",
       "dtype: int64"
      ]
     },
     "execution_count": 13,
     "metadata": {},
     "output_type": "execute_result"
    }
   ],
   "source": [
    "hs3.to_series()"
   ]
  },
  {
   "cell_type": "markdown",
   "metadata": {},
   "source": [
    "### Step 4. Basic Operation"
   ]
  },
  {
   "cell_type": "markdown",
   "metadata": {},
   "source": [
    "You can perform arithmetic operations such as addition (`+`), subtraction (`-`), and multiplication (`*`) directly on `HESeries` objects. These operations work regardless of whether the data is in plaintext or ciphertext.\n",
    "\n",
    "If at least one of the operands is an encrypted `HESeries`, the result of the operation will also be encrypted. This ensures that sensitive data remains secure throughout computations.\n",
    "\n",
    "Let’s start by creating two encrypted `HESeries` objects:\n",
    "\n"
   ]
  },
  {
   "cell_type": "code",
   "execution_count": 14,
   "metadata": {},
   "outputs": [],
   "source": [
    "col1 = HESeries(context, [1,2,3,4], encrypt=True)\n",
    "col2 = HESeries(context, [3,-2,0,1], encrypt=True)\n",
    "# Generate 2 HESeries object with encrypt option 'True'"
   ]
  },
  {
   "cell_type": "markdown",
   "metadata": {},
   "source": [
    "#### Addition\n",
    "You can add the two `HESeries` as follows:"
   ]
  },
  {
   "cell_type": "code",
   "execution_count": 15,
   "metadata": {},
   "outputs": [
    {
     "name": "stdout",
     "output_type": "stream",
     "text": [
      "ADD\n"
     ]
    },
    {
     "data": {
      "text/plain": [
       "0    4\n",
       "1    0\n",
       "2    3\n",
       "3    5\n",
       "dtype: int64"
      ]
     },
     "execution_count": 15,
     "metadata": {},
     "output_type": "execute_result"
    }
   ],
   "source": [
    "add_col = col1 + col2\n",
    "print(\"ADD\")\n",
    "add_col.decrypt().to_series()"
   ]
  },
  {
   "cell_type": "markdown",
   "metadata": {},
   "source": [
    "#### Subtraction\n",
    "Similarly, subtraction can be performed:"
   ]
  },
  {
   "cell_type": "code",
   "execution_count": 16,
   "metadata": {},
   "outputs": [
    {
     "name": "stdout",
     "output_type": "stream",
     "text": [
      "SUB\n"
     ]
    },
    {
     "data": {
      "text/plain": [
       "0   -2\n",
       "1    4\n",
       "2    3\n",
       "3    3\n",
       "dtype: int64"
      ]
     },
     "execution_count": 16,
     "metadata": {},
     "output_type": "execute_result"
    }
   ],
   "source": [
    "sub_col = col1 - col2\n",
    "print(\"SUB\")\n",
    "sub_col.decrypt().to_series()"
   ]
  },
  {
   "cell_type": "markdown",
   "metadata": {},
   "source": [
    "#### Multiplication\n",
    "You can also multiply the two `HESeries`:"
   ]
  },
  {
   "cell_type": "code",
   "execution_count": 1,
   "metadata": {},
   "outputs": [
    {
     "name": "stderr",
     "output_type": "stream",
     "text": [
      "/tmp/ipykernel_14084/3011891095.py:3: UserWarning: The currently available memory size is 5.6GB. It must be at least 10.2GB for `FGb` parameter preset to compute operations.\n",
      "  context = Context(\n"
     ]
    },
    {
     "name": "stdout",
     "output_type": "stream",
     "text": [
      "MULT\n",
      "0     4.0\n",
      "1    10.0\n",
      "2    18.0\n",
      "dtype: float64\n"
     ]
    }
   ],
   "source": [
    "from heaan_stat import Context, HESeries\n",
    "\n",
    "context = Context(\n",
    "    key_dir_path=\"./keys\",\n",
    "    generate_keys=False\n",
    ")\n",
    "\n",
    "col1 = HESeries(context, [1.0, 2.0, 3.0])\n",
    "col2 = HESeries(context, [4.0, 5.0, 6.0])\n",
    "mult_col = col1 * col2\n",
    "\n",
    "print(\"MULT\")\n",
    "\n",
    "# ✅ 복호화되어 있는지 확인 후 처리\n",
    "if mult_col.encrypted:\n",
    "    mult_col.decrypt()\n",
    "\n",
    "print(mult_col.to_series())\n"
   ]
  },
  {
   "cell_type": "code",
   "execution_count": null,
   "metadata": {},
   "outputs": [
    {
     "data": {
      "text/plain": [
       "(pandas.core.series.Series,\n",
       " 0    2\n",
       " 1    3\n",
       " 2    2\n",
       " 3    1\n",
       " 4    1\n",
       " dtype: int64)"
      ]
     },
     "metadata": {},
     "output_type": "display_data"
    }
   ],
   "source": [
    "category = pd.Series(np.random.randint(1, 4, size=5), dtype=\"int\")\n",
    "hs3 = HESeries(context, category)\n",
    "hs3\n",
    "# Show information of HESeries hs3\n",
    "series3 = hs3.to_series()\n",
    "type(series3), series3 # Show the type and values of series3\n",
    "# Show the type and values of series3"
   ]
  }
 ],
 "metadata": {
  "kernelspec": {
   "display_name": "Python 3",
   "language": "python",
   "name": "python3"
  },
  "language_info": {
   "codemirror_mode": {
    "name": "ipython",
    "version": 3
   },
   "file_extension": ".py",
   "mimetype": "text/x-python",
   "name": "python",
   "nbconvert_exporter": "python",
   "pygments_lexer": "ipython3",
   "version": "3.10.12"
  }
 },
 "nbformat": 4,
 "nbformat_minor": 2
}
